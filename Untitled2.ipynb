{
  "nbformat": 4,
  "nbformat_minor": 0,
  "metadata": {
    "colab": {
      "provenance": [],
      "include_colab_link": true
    },
    "kernelspec": {
      "name": "python3",
      "display_name": "Python 3"
    },
    "language_info": {
      "name": "python"
    }
  },
  "cells": [
    {
      "cell_type": "markdown",
      "metadata": {
        "id": "view-in-github",
        "colab_type": "text"
      },
      "source": [
        "<a href=\"https://colab.research.google.com/github/enosung/ubion-Another-member/blob/main/Untitled2.ipynb\" target=\"_parent\"><img src=\"https://colab.research.google.com/assets/colab-badge.svg\" alt=\"Open In Colab\"/></a>"
      ]
    },
    {
      "cell_type": "code",
      "source": [
        "날짜 = int(input(\"계산하고 싶은 날짜를 입력하세요(ex:10일 뒤 = 10): \"))\n",
        "print(날짜)\n",
        "\n",
        "import datetime\n",
        "start_date = datetime.datetime.today()\n",
        "d_day = 날짜\n",
        "target_date = start_date + datetime.timedelta(d_day)\n",
        "\n",
        "print(f\"start date: {start_date}\")\n",
        "print(f\"d-day: {d_day}\")\n",
        "print(f\"target date: {target_date}\")"
      ],
      "metadata": {
        "colab": {
          "base_uri": "https://localhost:8080/"
        },
        "id": "Q8AbO6siUjQV",
        "outputId": "7e62b033-267e-44d5-cb7a-72b3077ea29c"
      },
      "execution_count": null,
      "outputs": [
        {
          "output_type": "stream",
          "name": "stdout",
          "text": [
            "계산하고 싶은 날짜를 입력하세요(ex:10일 뒤 = 10): 100\n",
            "100\n",
            "start date: 2022-12-30 05:53:27.011034\n",
            "d-day: 100\n",
            "target date: 2023-04-09 05:53:27.011034\n"
          ]
        }
      ]
    }
  ]
}